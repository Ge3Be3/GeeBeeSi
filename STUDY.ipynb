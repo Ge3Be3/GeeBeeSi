{
 "cells": [
  {
   "cell_type": "code",
   "execution_count": 4,
   "id": "a0bccea3-4449-4e42-ab15-6c8bd8e03aa7",
   "metadata": {},
   "outputs": [],
   "source": [
    "#lệnh đễ in ra màn hình"
   ]
  },
  {
   "cell_type": "code",
   "execution_count": 3,
   "id": "fd48e71b-c9f1-4c91-97d6-32765a74ea44",
   "metadata": {},
   "outputs": [
    {
     "name": "stdout",
     "output_type": "stream",
     "text": [
      "Hello World\n"
     ]
    }
   ],
   "source": [
    "print(\"Hello World\")"
   ]
  },
  {
   "cell_type": "code",
   "execution_count": 5,
   "id": "e2f7a1b0-9be9-4ebb-981f-fe8cef37c1ab",
   "metadata": {},
   "outputs": [],
   "source": [
    "#Lệnh để nhập dữ liệu"
   ]
  },
  {
   "cell_type": "code",
   "execution_count": 73,
   "id": "04e17299-ac0e-4d66-8e3a-52d43854a6eb",
   "metadata": {},
   "outputs": [
    {
     "name": "stdin",
     "output_type": "stream",
     "text": [
      "Nhap Gia Tri Cho a : 15\n"
     ]
    }
   ],
   "source": [
    "a = input (\"Nhap Gia Tri Cho a :\")"
   ]
  },
  {
   "cell_type": "code",
   "execution_count": 8,
   "id": "e23c6480-6aa5-42b9-97b3-18e2a82768b0",
   "metadata": {},
   "outputs": [],
   "source": [
    "#Cách Xuất Dữ Liệu"
   ]
  },
  {
   "cell_type": "code",
   "execution_count": 74,
   "id": "de05ca83-1740-4524-85f3-7f63e81b7113",
   "metadata": {},
   "outputs": [
    {
     "name": "stdout",
     "output_type": "stream",
     "text": [
      "15\n"
     ]
    }
   ],
   "source": [
    "print(int(a))"
   ]
  },
  {
   "cell_type": "code",
   "execution_count": 50,
   "id": "9fbbbb7b-9d0e-4de0-ae9b-d55337581153",
   "metadata": {},
   "outputs": [],
   "source": [
    "#Các Cú Pháp Để Xuất print(object , separator , end , file , flsuh)"
   ]
  },
  {
   "cell_type": "code",
   "execution_count": 51,
   "id": "9b23d897-895f-400e-b0b3-de857595fb45",
   "metadata": {},
   "outputs": [
    {
     "name": "stdout",
     "output_type": "stream",
     "text": [
      "Hello,World\n",
      "Hello,World\n"
     ]
    }
   ],
   "source": [
    "print(\"Hello,World\");print(\"Hello,World\")"
   ]
  },
  {
   "cell_type": "code",
   "execution_count": 52,
   "id": "f5a9cdd0-d537-4cd3-9560-adcbf9c88ff1",
   "metadata": {},
   "outputs": [],
   "source": [
    "#sep giúp ngăn cách giữa 2 object bằng 1 cái gì đó "
   ]
  },
  {
   "cell_type": "code",
   "execution_count": 53,
   "id": "8894768b-d670-44a8-86bd-6d6ca8e6f06e",
   "metadata": {},
   "outputs": [
    {
     "name": "stdout",
     "output_type": "stream",
     "text": [
      "Xin,Chao\n"
     ]
    }
   ],
   "source": [
    "print(\"Xin\" , \"Chao\",sep=\",\")"
   ]
  },
  {
   "cell_type": "code",
   "execution_count": 54,
   "id": "7aec1f47-dad8-4193-86da-a062bf3e07bd",
   "metadata": {},
   "outputs": [],
   "source": [
    "#Thêm cái \",\" để nó tự cách ra"
   ]
  },
  {
   "cell_type": "code",
   "execution_count": 55,
   "id": "14012445-efa7-4df2-84f1-7cb606054048",
   "metadata": {},
   "outputs": [],
   "source": [
    "#Phép Gán trong python "
   ]
  },
  {
   "cell_type": "code",
   "execution_count": 56,
   "id": "fe38d19a-93e3-4ebb-92b6-cae0bd3ec32d",
   "metadata": {},
   "outputs": [],
   "source": [
    "Ten = 'Bao'"
   ]
  },
  {
   "cell_type": "code",
   "execution_count": 57,
   "id": "de282706-3507-4860-b438-267fb5c761b7",
   "metadata": {},
   "outputs": [],
   "source": [
    "Ho = 'DepTrai'"
   ]
  },
  {
   "cell_type": "code",
   "execution_count": 58,
   "id": "2e60960c-e573-4d6f-8b70-cc633cf90e43",
   "metadata": {},
   "outputs": [
    {
     "name": "stdout",
     "output_type": "stream",
     "text": [
      "Ten = Bao , Ho = DepTrai\n"
     ]
    }
   ],
   "source": [
    "print(\"Ten = {0} , Ho = {1}\".format(Ten,Ho))"
   ]
  },
  {
   "cell_type": "code",
   "execution_count": 59,
   "id": "5ad93e7d-7eba-4d5c-bd98-0c1f7dea645a",
   "metadata": {},
   "outputs": [],
   "source": [
    "#Cách để biết kiểu dữ liệu"
   ]
  },
  {
   "cell_type": "code",
   "execution_count": 60,
   "id": "a6c18708-b8bf-4f33-b4c1-39ad417d2112",
   "metadata": {},
   "outputs": [
    {
     "name": "stdout",
     "output_type": "stream",
     "text": [
      "<class 'str'>\n"
     ]
    }
   ],
   "source": [
    "print(type(Ten))"
   ]
  },
  {
   "cell_type": "code",
   "execution_count": 62,
   "id": "9e39efd8-2385-4868-887f-2b5aefcf136a",
   "metadata": {},
   "outputs": [],
   "source": [
    "b = 15"
   ]
  },
  {
   "cell_type": "code",
   "execution_count": 71,
   "id": "1a406152-72ec-493a-a6b3-306e50f32e06",
   "metadata": {},
   "outputs": [
    {
     "name": "stdout",
     "output_type": "stream",
     "text": [
      "<class 'int'>\n"
     ]
    }
   ],
   "source": [
    "print(type(b))"
   ]
  },
  {
   "cell_type": "code",
   "execution_count": 77,
   "id": "15f7f0f3-2f91-48b9-a802-7b46aa29bd77",
   "metadata": {
    "scrolled": true
   },
   "outputs": [
    {
     "name": "stdout",
     "output_type": "stream",
     "text": [
      "30\n"
     ]
    }
   ],
   "source": [
    "print(int(a)+b)"
   ]
  },
  {
   "cell_type": "code",
   "execution_count": 78,
   "id": "5d7718fe-9de1-41ff-93f1-08221f02787c",
   "metadata": {},
   "outputs": [],
   "source": [
    "#Các Phép Tính Trong Python"
   ]
  },
  {
   "cell_type": "raw",
   "id": "c501b70d-7d18-4dfa-b4d6-38e459d105a9",
   "metadata": {},
   "source": [
    "\"+\" : Cộng \n",
    "\"-\" : Trừ\n",
    "\"*\" : Nhân \n",
    "\"/\" : Chia \n",
    "\"%\" : Chia lấy phần dư \n",
    "\"**\": Mũ\n",
    "\"//\":Chia lấy phần nguyên "
   ]
  },
  {
   "cell_type": "code",
   "execution_count": 80,
   "id": "cdad14b7-7fd1-4871-9af0-aeae77c7182a",
   "metadata": {},
   "outputs": [],
   "source": [
    "#Các Phép So Sánh Trong python"
   ]
  },
  {
   "cell_type": "raw",
   "id": "45e6e3de-9adc-4f15-b4cd-0820708c5a00",
   "metadata": {},
   "source": [
    "\">\":Lớn hơn\n",
    "\"<\":Bé hơn\n",
    "\"==\":Bằng\n",
    "\">=\":Lớn hơn hoặc bằng\n",
    "\"<=\":Bé hơn hoặc bằng\n"
   ]
  },
  {
   "cell_type": "code",
   "execution_count": 9,
   "id": "e6a03f84-a9c3-46ab-8541-ff2f27caa7a0",
   "metadata": {},
   "outputs": [
    {
     "name": "stdin",
     "output_type": "stream",
     "text": [
      "Vui Long Nhap Gia Tri x : 2\n"
     ]
    }
   ],
   "source": [
    "x = int(input('Vui Long Nhap Gia Tri x :'))"
   ]
  },
  {
   "cell_type": "code",
   "execution_count": 10,
   "id": "e2f4780a-1aad-4f7d-b1ac-45270d4daacc",
   "metadata": {},
   "outputs": [
    {
     "name": "stdin",
     "output_type": "stream",
     "text": [
      "Vui Long Nhap Gia Tri y : 1\n"
     ]
    }
   ],
   "source": [
    "y = int(input('Vui Long Nhap Gia Tri y :'))"
   ]
  },
  {
   "cell_type": "code",
   "execution_count": 16,
   "id": "3420f4f9-2283-426d-bf0e-7ecbceeb3d76",
   "metadata": {},
   "outputs": [
    {
     "name": "stdout",
     "output_type": "stream",
     "text": [
      "2 > 1 là True\n"
     ]
    }
   ],
   "source": [
    "print('{0} > {1} là {2}'.format(x , y, x>y))"
   ]
  },
  {
   "cell_type": "code",
   "execution_count": 27,
   "id": "21199ec8-f1c7-4c6b-bba2-84e09b230ed9",
   "metadata": {},
   "outputs": [
    {
     "name": "stdout",
     "output_type": "stream",
     "text": [
      "False\n"
     ]
    }
   ],
   "source": [
    "print((x>y) and (y>x))"
   ]
  },
  {
   "cell_type": "code",
   "execution_count": 28,
   "id": "9024afa8-d3c0-4aad-937d-96fb41807524",
   "metadata": {},
   "outputs": [
    {
     "name": "stdout",
     "output_type": "stream",
     "text": [
      "True\n"
     ]
    }
   ],
   "source": [
    "print((x>y) or (y>x))"
   ]
  },
  {
   "cell_type": "code",
   "execution_count": 1,
   "id": "66df88b5-23c4-47bf-88be-000a50e1d56e",
   "metadata": {},
   "outputs": [],
   "source": [
    "#Toán Tự Gán"
   ]
  },
  {
   "cell_type": "code",
   "execution_count": 4,
   "id": "2735ef8f-05a6-49ab-a5e9-25ca93ac1e07",
   "metadata": {},
   "outputs": [
    {
     "name": "stdin",
     "output_type": "stream",
     "text": [
      "Nhap Gia Tri a 1\n"
     ]
    }
   ],
   "source": [
    "a = int(input(\"Nhap Gia Tri a\"))"
   ]
  },
  {
   "cell_type": "code",
   "execution_count": 5,
   "id": "83db429e-7206-4b5e-8a64-b43e0c6ea8fd",
   "metadata": {},
   "outputs": [],
   "source": [
    "a+=1"
   ]
  },
  {
   "cell_type": "code",
   "execution_count": 6,
   "id": "d78f48d4-bb96-454d-b0fd-40f41699a485",
   "metadata": {},
   "outputs": [
    {
     "name": "stdout",
     "output_type": "stream",
     "text": [
      "2\n"
     ]
    }
   ],
   "source": [
    "print(a)"
   ]
  },
  {
   "cell_type": "raw",
   "id": "02711956-d743-437e-a4a1-b6f20949fa99",
   "metadata": {},
   "source": [
    "a+= thì nó sẽ là a = a + 1 kiểu là như vậy và tương tự với các phép tính khác "
   ]
  },
  {
   "cell_type": "code",
   "execution_count": 29,
   "id": "79659c46-0a15-4011-9ba1-e78b18998554",
   "metadata": {},
   "outputs": [],
   "source": [
    "#Thư Viện Math"
   ]
  },
  {
   "cell_type": "code",
   "execution_count": 30,
   "id": "fd505813-ec41-4f3d-b1d0-8ab0338c15b8",
   "metadata": {},
   "outputs": [],
   "source": [
    "import math #Khai Báo Thư Viện Math"
   ]
  },
  {
   "cell_type": "raw",
   "id": "3d72ecad-df74-4839-acdc-5cc164f561d3",
   "metadata": {},
   "source": [
    "Các dòng lệnh gồm\n",
    "math.ceil(x)\n",
    "    Trả về giá trị trần của x m số nguyên nhở nhất lớn hơn hoặc bằng x\n",
    "math.fabs(x)\n",
    "    Trả về giá trị tuyệt đối của x.\n",
    "math.floor(x)\n",
    "    Trả về giá sàn x \n",
    "math.exp(x)\n",
    "    Trà về lũy thừa x \n",
    "math.log(x[,base])\n",
    "    Với 1 đổi số , trả về logarit tự nhiên của x ( cơ số e )\n",
    "math.pow(x,y)\n",
    "    Trả về x lũy thừa y\n",
    "math.sqrt(x)\n",
    "     Căn bậc 2"
   ]
  },
  {
   "cell_type": "code",
   "execution_count": 32,
   "id": "c6b273ec-74c9-4945-9f94-8824f1debd2b",
   "metadata": {
    "scrolled": true
   },
   "outputs": [
    {
     "name": "stdin",
     "output_type": "stream",
     "text": [
      "Nhap Gia Tri Cho X : 12.5\n"
     ]
    }
   ],
   "source": [
    "x = float(input('Nhap Giá Tri Cho X :'))"
   ]
  },
  {
   "cell_type": "code",
   "execution_count": 33,
   "id": "4b833629-2732-4120-b582-fd943e67fe96",
   "metadata": {},
   "outputs": [
    {
     "name": "stdout",
     "output_type": "stream",
     "text": [
      "Gia trị trần của x là : 13\n"
     ]
    }
   ],
   "source": [
    "print('Giá trị trần của x là :',math.ceil(x))"
   ]
  },
  {
   "cell_type": "code",
   "execution_count": 34,
   "id": "3cc92516-9735-4a94-a52e-04310349a2f8",
   "metadata": {},
   "outputs": [
    {
     "name": "stdout",
     "output_type": "stream",
     "text": [
      "Trị tuyệt đối của x là : 12.5\n"
     ]
    }
   ],
   "source": [
    "print('Trị tuyệt đối của x là :',math.fabs(x))"
   ]
  },
  {
   "cell_type": "code",
   "execution_count": 35,
   "id": "b127329b-7545-4af8-af4f-6074e1e8f3d9",
   "metadata": {},
   "outputs": [
    {
     "name": "stdout",
     "output_type": "stream",
     "text": [
      "Giá trị sàn của x là : 12\n"
     ]
    }
   ],
   "source": [
    "print('Giá trị sàn của x là :',math.floor(x))"
   ]
  },
  {
   "cell_type": "code",
   "execution_count": 36,
   "id": "138809d5-374f-4693-9a60-d51f72796c18",
   "metadata": {},
   "outputs": [
    {
     "name": "stdout",
     "output_type": "stream",
     "text": [
      "Lũy thừa x : 268337.2865208745\n"
     ]
    }
   ],
   "source": [
    "print('Lũy thừa x :',math.exp(x))"
   ]
  },
  {
   "cell_type": "code",
   "execution_count": 37,
   "id": "3c0888c5-e763-42d5-b47a-4f7f3c038df0",
   "metadata": {},
   "outputs": [],
   "source": [
    "#Toán Tử Điều Kiện "
   ]
  },
  {
   "cell_type": "raw",
   "id": "6cbde061-84b9-4f03-aede-ade76728962f",
   "metadata": {},
   "source": [
    "Cấu trúc :\n",
    "    [Trả về khi đk đúng] if [điều kiện] else [trả về đk khi sai] "
   ]
  },
  {
   "cell_type": "code",
   "execution_count": 38,
   "id": "67d34521-cd4c-450b-b676-2377b48d94ec",
   "metadata": {},
   "outputs": [
    {
     "name": "stdin",
     "output_type": "stream",
     "text": [
      "Vui Lòng Nhập Giá Trị Cho x: 12\n"
     ]
    }
   ],
   "source": [
    "x = int(input('Vui Lòng Nhập Giá Trị Cho x:'))"
   ]
  },
  {
   "cell_type": "code",
   "execution_count": 45,
   "id": "47d346b6-c19d-4b9b-9506-4b00d44d0cb1",
   "metadata": {},
   "outputs": [],
   "source": [
    "kq= \"Chẵn\" if (x%2==0) else \"Lẻ\""
   ]
  },
  {
   "cell_type": "code",
   "execution_count": 47,
   "id": "9ef9405c-6f80-4cf2-a6f6-d8193d852e95",
   "metadata": {},
   "outputs": [
    {
     "name": "stdout",
     "output_type": "stream",
     "text": [
      "12 Là số: Chẵn\n"
     ]
    }
   ],
   "source": [
    "print(x,'Là số:',kq)"
   ]
  },
  {
   "cell_type": "code",
   "execution_count": 6,
   "id": "4b7f8250-3f28-4f10-89de-39ef95240cbe",
   "metadata": {},
   "outputs": [
    {
     "name": "stdin",
     "output_type": "stream",
     "text": [
      "Vui Lòng Nhập Giá Trị Cho x: -2\n"
     ]
    }
   ],
   "source": [
    "x = int(input('Vui Lòng Nhập Giá Trị Cho x:'))"
   ]
  },
  {
   "cell_type": "code",
   "execution_count": 7,
   "id": "c246d77c-8300-4f07-be63-2838539f0c73",
   "metadata": {},
   "outputs": [
    {
     "name": "stdout",
     "output_type": "stream",
     "text": [
      "-2 là số âm\n"
     ]
    }
   ],
   "source": [
    "if x > 0 :\n",
    "        print(x,'là số dương')\n",
    "        print('---')\n",
    "else :\n",
    "        print(x,'là số âm')"
   ]
  },
  {
   "cell_type": "code",
   "execution_count": 9,
   "id": "811e02b0-77f8-44c4-a458-e1b0eee7f909",
   "metadata": {},
   "outputs": [
    {
     "name": "stdin",
     "output_type": "stream",
     "text": [
      "Nhap Diem Trung Binh Cua Ban: 5.6\n"
     ]
    }
   ],
   "source": [
    "DTB = float(input('Nhap Diem Trung Binh Cua Ban:'))"
   ]
  },
  {
   "cell_type": "code",
   "execution_count": 10,
   "id": "4eac0855-8d63-4a90-95e4-91189f40a008",
   "metadata": {},
   "outputs": [
    {
     "name": "stdout",
     "output_type": "stream",
     "text": [
      "Bạn Xếp Hạng Trung Bình\n"
     ]
    }
   ],
   "source": [
    "if DTB >= 8 :\n",
    "    print('Bạn Xếp Hạng Giỏi')\n",
    "elif DTB >= 7:\n",
    "    print('Bạn Xếp Hạng Khá')\n",
    "elif DTB >=5 :\n",
    "    print('Bạn Xếp Hạng Trung Bình')\n",
    "else :\n",
    "    print('Gà VCl')"
   ]
  },
  {
   "cell_type": "code",
   "execution_count": 11,
   "id": "67b7dbbc-dd7e-4cf9-ab03-cca1e9be94f2",
   "metadata": {},
   "outputs": [],
   "source": [
    "#Giải Phương Trình Bậc 2 "
   ]
  },
  {
   "cell_type": "code",
   "execution_count": null,
   "id": "7cbc0371-39ef-4a00-b292-a38a4b4cae85",
   "metadata": {},
   "outputs": [
    {
     "name": "stdout",
     "output_type": "stream",
     "text": [
      "Giải phương trình ax^2+bx+c=0\n"
     ]
    }
   ],
   "source": [
    "import math\n",
    "print('Giải phương trình ax^2+bx+c=0')\n",
    "a = float(input('Nhập Giá Trị a:'))\n",
    "b = float(input('Nhập Giá Trị b:'))\n",
    "c = float(input('Nhập Giá Trị c:'))\n",
    "\n",
    "if(a!=0):\n",
    "          delta = b**2 -4*a*c\n",
    "          if(delta < 0) : \n",
    "                print('Phương Trình Vô Nghiệm')\n",
    "          elif (delta == 0) :\n",
    "                x = -b/(2*a)\n",
    "                print('Phương Trình Có Nghiệm Kép x1 = x2 = ',x)\n",
    "          else :\n",
    "              x1 = (-b-math.sqrt(delta))/(2*a)\n",
    "              x2 = (-b+math.sqrt(delta))/(2*a)\n",
    "              print('Phương Trình Có 2 Nghiệm x1 = {0} và x2 = {1}'.format(x1,x2))\n",
    "else : \n",
    "          print('Không Phải Phương Trình Bậc 2')                    "
   ]
  },
  {
   "cell_type": "code",
   "execution_count": null,
   "id": "64300da7-1e7a-4eb1-a75c-7630d42ecfac",
   "metadata": {},
   "outputs": [],
   "source": []
  },
  {
   "cell_type": "code",
   "execution_count": null,
   "id": "a2dd2a38-dae2-45de-9280-17a12cfdb5fd",
   "metadata": {},
   "outputs": [],
   "source": []
  }
 ],
 "metadata": {
  "kernelspec": {
   "display_name": "Python [conda env:base] *",
   "language": "python",
   "name": "conda-base-py"
  },
  "language_info": {
   "codemirror_mode": {
    "name": "ipython",
    "version": 3
   },
   "file_extension": ".py",
   "mimetype": "text/x-python",
   "name": "python",
   "nbconvert_exporter": "python",
   "pygments_lexer": "ipython3",
   "version": "3.13.5"
  }
 },
 "nbformat": 4,
 "nbformat_minor": 5
}
